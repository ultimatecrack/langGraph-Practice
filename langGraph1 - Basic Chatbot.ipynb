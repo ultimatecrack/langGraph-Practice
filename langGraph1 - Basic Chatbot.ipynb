{
 "cells": [
  {
   "cell_type": "code",
   "execution_count": 8,
   "id": "a59f2e44-1453-40d2-9df1-53b4686d9b4c",
   "metadata": {},
   "outputs": [],
   "source": [
    "import os\n",
    "from dotenv import load_dotenv, find_dotenv\n",
    "load_dotenv(find_dotenv())\n",
    "\n",
    "from langchain_openai import AzureChatOpenAI\n",
    "\n",
    "from typing import Annotated\n",
    "\n",
    "from typing_extensions import TypedDict\n",
    "\n",
    "from langgraph.graph import StateGraph, START, END\n",
    "from langgraph.graph.message import add_messages\n",
    "\n",
    "from langchain_anthropic import ChatAnthropic\n",
    "\n",
    "from langsmith import traceable\n",
    "\n",
    "class State(TypedDict):\n",
    "    # Messages have the type \"list\". The `add_messages` function\n",
    "    # in the annotation defines how this state key should be updated\n",
    "    # (in this case, it appends messages to the list, rather than overwriting them)\n",
    "    messages: Annotated[list, add_messages]\n",
    "\n",
    "\n",
    "graph_builder = StateGraph(State)"
   ]
  },
  {
   "cell_type": "code",
   "execution_count": 9,
   "id": "6a6ee768-bf78-4d78-a8eb-920b55d10b69",
   "metadata": {},
   "outputs": [],
   "source": [
    "llm = AzureChatOpenAI(\n",
    "    api_key=os.getenv(\"AZURE_OPENAI_API_KEY\"),\n",
    "    api_version=os.getenv(\"API_VERSION\"),\n",
    "    azure_endpoint=os.getenv(\"AZURE_OPENAI_ENDPOINT\"),\n",
    "    model=os.getenv(\"MODEL_NAME\"),\n",
    "    )"
   ]
  },
  {
   "cell_type": "code",
   "execution_count": 10,
   "id": "074e4231-2c83-4802-a007-6b6488254973",
   "metadata": {},
   "outputs": [],
   "source": [
    "@traceable\n",
    "def chatbot(state: State):\n",
    "    return {\"messages\": [llm.invoke(state[\"messages\"])]}"
   ]
  },
  {
   "cell_type": "code",
   "execution_count": 11,
   "id": "75883c4a-426a-4a45-9455-2d1fe1f5cd9e",
   "metadata": {},
   "outputs": [],
   "source": [
    "# The first argument is the unique node name\n",
    "# The second argument is the function or object that will be called whenever\n",
    "# the node is used.\n",
    "graph_builder.add_node(\"chatbot\", chatbot)\n",
    "\n",
    "graph_builder.add_edge(START, \"chatbot\")\n",
    "\n",
    "graph_builder.add_edge(\"chatbot\", END)\n",
    "\n",
    "graph = graph_builder.compile()"
   ]
  },
  {
   "cell_type": "code",
   "execution_count": 12,
   "id": "000ebcf1-feca-4fd7-9ec3-799e901fdacf",
   "metadata": {},
   "outputs": [
    {
     "data": {
      "image/png": "[encoded data removed]",
      "text/plain": [
       "<IPython.core.display.Image object>"
      ]
     },
     "metadata": {},
     "output_type": "display_data"
    }
   ],
   "source": [
    "from IPython.display import Image, display\n",
    "\n",
    "try:\n",
    "    display(Image(graph.get_graph().draw_mermaid_png()))\n",
    "except Exception:\n",
    "    # This requires some extra dependencies and is optional\n",
    "    pass"
   ]
  },
  {
   "cell_type": "code",
   "execution_count": 13,
   "id": "6af400a1-2417-4a36-89ad-054bc57bd334",
   "metadata": {},
   "outputs": [],
   "source": [
    "def stream_graph_updates(user_input: str):\n",
    "    for event in graph.stream({\"messages\": [(\"user\", user_input)]}):\n",
    "        for value in event.values():\n",
    "            print(\"Assistant:\", value[\"messages\"][-1].content)"
   ]
  },
  {
   "cell_type": "code",
   "execution_count": 14,
   "id": "c0bef6f1-23a1-44cf-815c-a06736645442",
   "metadata": {},
   "outputs": [
    {
     "name": "stdin",
     "output_type": "stream",
     "text": [
      "User:  Hi\n"
     ]
    },
    {
     "name": "stdout",
     "output_type": "stream",
     "text": [
      "Assistant: Hello! How can I assist you today?\n"
     ]
    },
    {
     "name": "stdin",
     "output_type": "stream",
     "text": [
      "User:  What is langGraph?\n"
     ]
    },
    {
     "name": "stdout",
     "output_type": "stream",
     "text": [
      "Assistant: LangGraph is a framework designed to facilitate the development of language models and natural language processing applications. It aims to provide tools and infrastructure that support the creation, training, and deployment of sophisticated language understanding systems. LangGraph typically emphasizes modularity, scalability, and ease of integration with other technologies, making it a versatile choice for developers working on language-related projects. Depending on the context, it might also refer to specific libraries or components within a broader ecosystem focused on language modeling and processing.\n"
     ]
    },
    {
     "name": "stdin",
     "output_type": "stream",
     "text": [
      "User:  Can we setup langsmith in Azure?\n"
     ]
    },
    {
     "name": "stdout",
     "output_type": "stream",
     "text": [
      "Assistant: Yes, you can set up LangSmith in Azure. LangSmith, a platform for managing and deploying language models, can be hosted on cloud platforms like Azure. Here’s a general guide on how you might go about setting it up:\n",
      "\n",
      "1. **Azure Account and Subscription**: Ensure you have an active Azure account and subscription.\n",
      "\n",
      "2. **Resource Group**: Create a resource group in Azure to manage all related resources for LangSmith.\n",
      "\n",
      "3. **Virtual Machine (VM)**:\n",
      "   - Deploy a virtual machine to host LangSmith. Choose the appropriate size and specs based on your expected computational needs.\n",
      "   - Ensure the VM has the necessary OS and dependencies required by LangSmith.\n",
      "\n",
      "4. **Networking**:\n",
      "   - Set up virtual networks and subnets as needed.\n",
      "   - Configure network security groups to manage inbound and outbound traffic.\n",
      "   - Consider setting up a Load Balancer if you deploy multiple instances for scalability.\n",
      "\n",
      "5. **Storage**:\n",
      "   - Use Azure Blob Storage or Azure Files for storing any necessary data related to LangSmith.\n",
      "   - Ensure proper access permissions and keys are managed securely.\n",
      "\n",
      "6. **Database**:\n",
      "   - If LangSmith requires a database, set up an Azure SQL Database or another suitable database service.\n",
      "\n",
      "7. **Environment Configuration**:\n",
      "   - SSH into your VM and install any required software and libraries.\n",
      "   - Deploy LangSmith following its installation instructions, which might involve setting up a Python environment, installing dependencies, and configuring environment variables.\n",
      "\n",
      "8. **Security**:\n",
      "   - Implement Azure Security Center recommendations.\n",
      "   - Use Azure Key Vault to manage and access secrets and keys securely.\n",
      "\n",
      "9. **Monitoring and Logging**:\n",
      "   - Utilize Azure Monitor to keep track of performance metrics and logs.\n",
      "   - Set up alerts for any critical issues.\n",
      "\n",
      "10. **Backup and Recovery**:\n",
      "    - Configure backup policies to ensure data and system configurations are backed up regularly.\n",
      "\n",
      "11. **Scaling and Availability**:\n",
      "    - Consider using Azure’s scaling features to handle increased load.\n",
      "    - Deploy across multiple regions for higher availability if necessary.\n",
      "\n",
      "Make sure to refer to the official documentation of LangSmith and Azure for detailed instructions and best practices tailored to your specific setup and version requirements.\n"
     ]
    },
    {
     "name": "stdin",
     "output_type": "stream",
     "text": [
      "User:  exit\n"
     ]
    },
    {
     "name": "stdout",
     "output_type": "stream",
     "text": [
      "Goodbye!\n"
     ]
    }
   ],
   "source": [
    "while True:\n",
    "    try:\n",
    "        user_input = input(\"User: \")\n",
    "        if user_input.lower() in [\"quit\", \"exit\", \"q\"]:\n",
    "            print(\"Goodbye!\")\n",
    "            break\n",
    "\n",
    "        stream_graph_updates(user_input)\n",
    "    except:\n",
    "        # fallback if input() is not available\n",
    "        user_input = \"What do you know about LangGraph?\"\n",
    "        print(\"User: \" + user_input)\n",
    "        stream_graph_updates(user_input)\n",
    "        break"
   ]
  },
  {
   "cell_type": "code",
   "execution_count": null,
   "id": "2ea3b45b-be1c-40f5-a034-56cb7596a5a6",
   "metadata": {},
   "outputs": [],
   "source": []
  }
 ],
 "metadata": {
  "kernelspec": {
   "display_name": "Python 3 (ipykernel)",
   "language": "python",
   "name": "python3"
  },
  "language_info": {
   "codemirror_mode": {
    "name": "ipython",
    "version": 3
   },
   "file_extension": ".py",
   "mimetype": "text/x-python",
   "name": "python",
   "nbconvert_exporter": "python",
   "pygments_lexer": "ipython3",
   "version": "3.12.4"
  }
 },
 "nbformat": 4,
 "nbformat_minor": 5
}
